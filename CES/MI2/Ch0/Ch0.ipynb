{
 "cells": [
  {
   "cell_type": "markdown",
   "id": "70dfa4a0",
   "metadata": {},
   "source": [
    "# MI Ch0"
   ]
  },
  {
   "cell_type": "markdown",
   "id": "b7ad54de",
   "metadata": {},
   "source": [
    "## Linear Algebra"
   ]
  },
  {
   "cell_type": "code",
   "execution_count": 1,
   "id": "c65aa96d",
   "metadata": {},
   "outputs": [],
   "source": [
    "import numpy as np"
   ]
  },
  {
   "cell_type": "code",
   "execution_count": 36,
   "id": "6cf46950",
   "metadata": {},
   "outputs": [],
   "source": [
    "A = np.array([\n",
    "    [1,2,3],\n",
    "    [4,3,2],\n",
    "    [2,-2,-1]\n",
    "])\n",
    "\n",
    "B = np.array([\n",
    "    [-1,2,3],\n",
    "    [2,-3,2],\n",
    "    [0,3,2]\n",
    "])\n",
    "\n",
    "C = np.array([\n",
    "    [1,2,3],\n",
    "    [2,3,4],\n",
    "    [3,6,9]\n",
    "])"
   ]
  },
  {
   "cell_type": "markdown",
   "id": "d5739721",
   "metadata": {},
   "source": [
    "### Product"
   ]
  },
  {
   "cell_type": "code",
   "execution_count": 3,
   "id": "f2877e86",
   "metadata": {},
   "outputs": [
    {
     "data": {
      "text/plain": [
       "array([[ 3,  5, 13],\n",
       "       [ 2,  5, 22],\n",
       "       [-6,  7,  0]])"
      ]
     },
     "execution_count": 3,
     "metadata": {},
     "output_type": "execute_result"
    }
   ],
   "source": [
    "np.dot(A,B)"
   ]
  },
  {
   "cell_type": "markdown",
   "id": "7cb91235",
   "metadata": {},
   "source": [
    "### Transpose"
   ]
  },
  {
   "cell_type": "code",
   "execution_count": 4,
   "id": "1bdc73e7",
   "metadata": {},
   "outputs": [
    {
     "data": {
      "text/plain": [
       "array([[ 1,  4,  2],\n",
       "       [ 2,  3, -2],\n",
       "       [ 3,  2, -1]])"
      ]
     },
     "execution_count": 4,
     "metadata": {},
     "output_type": "execute_result"
    }
   ],
   "source": [
    "A.T"
   ]
  },
  {
   "cell_type": "markdown",
   "id": "9c02aa23",
   "metadata": {},
   "source": [
    "$(AB)^T=B^TA^T$"
   ]
  },
  {
   "cell_type": "code",
   "execution_count": 15,
   "id": "b1ed8d88",
   "metadata": {},
   "outputs": [
    {
     "data": {
      "text/plain": [
       "array([[ 3,  2, -6],\n",
       "       [ 5,  5,  7],\n",
       "       [13, 22,  0]])"
      ]
     },
     "execution_count": 15,
     "metadata": {},
     "output_type": "execute_result"
    }
   ],
   "source": [
    "np.dot(A,B).T"
   ]
  },
  {
   "cell_type": "code",
   "execution_count": 16,
   "id": "12eb3320",
   "metadata": {
    "scrolled": true
   },
   "outputs": [
    {
     "data": {
      "text/plain": [
       "array([[ 3,  2, -6],\n",
       "       [ 5,  5,  7],\n",
       "       [13, 22,  0]])"
      ]
     },
     "execution_count": 16,
     "metadata": {},
     "output_type": "execute_result"
    }
   ],
   "source": [
    "np.dot(B.T,A.T)"
   ]
  },
  {
   "cell_type": "markdown",
   "id": "317858fa",
   "metadata": {},
   "source": [
    "### inverse of a square matrix\n",
    "\n",
    "$A^{-1}A=AA^{-1}=I$"
   ]
  },
  {
   "cell_type": "code",
   "execution_count": 13,
   "id": "804af1fa",
   "metadata": {},
   "outputs": [
    {
     "data": {
      "text/plain": [
       "array([[ 1.00000000e+00,  8.32667268e-17,  0.00000000e+00],\n",
       "       [ 0.00000000e+00,  1.00000000e+00,  5.55111512e-17],\n",
       "       [-1.11022302e-16,  8.32667268e-17,  1.00000000e+00]])"
      ]
     },
     "execution_count": 13,
     "metadata": {},
     "output_type": "execute_result"
    }
   ],
   "source": [
    "np.dot(A,np.linalg.inv(A)) "
   ]
  },
  {
   "cell_type": "code",
   "execution_count": 14,
   "id": "309aa5e7",
   "metadata": {},
   "outputs": [
    {
     "data": {
      "text/plain": [
       "array([[1.00000000e+00, 5.55111512e-17, 2.77555756e-17],\n",
       "       [0.00000000e+00, 1.00000000e+00, 5.55111512e-17],\n",
       "       [0.00000000e+00, 1.11022302e-16, 1.00000000e+00]])"
      ]
     },
     "execution_count": 14,
     "metadata": {},
     "output_type": "execute_result"
    }
   ],
   "source": [
    "np.dot(np.linalg.inv(A),A)"
   ]
  },
  {
   "cell_type": "markdown",
   "id": "2f49bbd9",
   "metadata": {},
   "source": [
    "$(AB)^{-1}=B^{-1}A^{-1}$"
   ]
  },
  {
   "cell_type": "code",
   "execution_count": 17,
   "id": "bafbe33b",
   "metadata": {},
   "outputs": [
    {
     "data": {
      "text/plain": [
       "array([[ 0.28      , -0.16545455, -0.08181818],\n",
       "       [ 0.24      , -0.14181818,  0.07272727],\n",
       "       [-0.08      ,  0.09272727, -0.00909091]])"
      ]
     },
     "execution_count": 17,
     "metadata": {},
     "output_type": "execute_result"
    }
   ],
   "source": [
    "np.linalg.inv(np.dot(A,B))"
   ]
  },
  {
   "cell_type": "code",
   "execution_count": 18,
   "id": "09a0e8bb",
   "metadata": {},
   "outputs": [
    {
     "data": {
      "text/plain": [
       "array([[ 0.28      , -0.16545455, -0.08181818],\n",
       "       [ 0.24      , -0.14181818,  0.07272727],\n",
       "       [-0.08      ,  0.09272727, -0.00909091]])"
      ]
     },
     "execution_count": 18,
     "metadata": {},
     "output_type": "execute_result"
    }
   ],
   "source": [
    "np.dot(np.linalg.inv(B),np.linalg.inv(A))"
   ]
  },
  {
   "cell_type": "markdown",
   "id": "9a6a13e7",
   "metadata": {},
   "source": [
    "$(A^T)^{-1} = (A^{-1})^T$"
   ]
  },
  {
   "cell_type": "code",
   "execution_count": 19,
   "id": "c64aad67",
   "metadata": {},
   "outputs": [
    {
     "data": {
      "text/plain": [
       "array([[-0.04, -0.32,  0.56],\n",
       "       [ 0.16,  0.28, -0.24],\n",
       "       [ 0.2 , -0.4 ,  0.2 ]])"
      ]
     },
     "execution_count": 19,
     "metadata": {},
     "output_type": "execute_result"
    }
   ],
   "source": [
    "np.linalg.inv(A.T)"
   ]
  },
  {
   "cell_type": "code",
   "execution_count": 20,
   "id": "16acf070",
   "metadata": {},
   "outputs": [
    {
     "data": {
      "text/plain": [
       "array([[-0.04, -0.32,  0.56],\n",
       "       [ 0.16,  0.28, -0.24],\n",
       "       [ 0.2 , -0.4 ,  0.2 ]])"
      ]
     },
     "execution_count": 20,
     "metadata": {},
     "output_type": "execute_result"
    }
   ],
   "source": [
    "np.linalg.inv(A).T"
   ]
  },
  {
   "cell_type": "markdown",
   "id": "a56e2b50",
   "metadata": {},
   "source": [
    "### Rank"
   ]
  },
  {
   "cell_type": "code",
   "execution_count": 39,
   "id": "1ffdc1e9",
   "metadata": {},
   "outputs": [
    {
     "data": {
      "text/plain": [
       "3"
      ]
     },
     "execution_count": 39,
     "metadata": {},
     "output_type": "execute_result"
    }
   ],
   "source": [
    "np.linalg.matrix_rank(A)"
   ]
  },
  {
   "cell_type": "markdown",
   "id": "2fe4898f",
   "metadata": {},
   "source": [
    "### Trace\n",
    "Tr(AB) = Tr(BA)"
   ]
  },
  {
   "cell_type": "code",
   "execution_count": 24,
   "id": "c490f259",
   "metadata": {},
   "outputs": [
    {
     "data": {
      "text/plain": [
       "3"
      ]
     },
     "execution_count": 24,
     "metadata": {},
     "output_type": "execute_result"
    }
   ],
   "source": [
    "np.trace(A)"
   ]
  },
  {
   "cell_type": "code",
   "execution_count": 25,
   "id": "41cc4aeb",
   "metadata": {},
   "outputs": [
    {
     "data": {
      "text/plain": [
       "-2"
      ]
     },
     "execution_count": 25,
     "metadata": {},
     "output_type": "execute_result"
    }
   ],
   "source": [
    "np.trace(B)"
   ]
  },
  {
   "cell_type": "code",
   "execution_count": 26,
   "id": "1e1c85d7",
   "metadata": {},
   "outputs": [
    {
     "data": {
      "text/plain": [
       "8"
      ]
     },
     "execution_count": 26,
     "metadata": {},
     "output_type": "execute_result"
    }
   ],
   "source": [
    "np.trace(np.dot(A,B))"
   ]
  },
  {
   "cell_type": "code",
   "execution_count": 27,
   "id": "df34aa6d",
   "metadata": {
    "scrolled": true
   },
   "outputs": [
    {
     "data": {
      "text/plain": [
       "8"
      ]
     },
     "execution_count": 27,
     "metadata": {},
     "output_type": "execute_result"
    }
   ],
   "source": [
    "np.trace(np.dot(B,A))"
   ]
  },
  {
   "cell_type": "markdown",
   "id": "34f5dbeb",
   "metadata": {},
   "source": [
    "### Determinant\n",
    "det(AB)=det(A)det(B),\n",
    "det(A)=det(A^T),$det(A^{-1})=\\frac{1}{det(A)}$"
   ]
  },
  {
   "cell_type": "code",
   "execution_count": 30,
   "id": "68a9b1db",
   "metadata": {},
   "outputs": [
    {
     "data": {
      "text/plain": [
       "-25.000000000000007"
      ]
     },
     "execution_count": 30,
     "metadata": {},
     "output_type": "execute_result"
    }
   ],
   "source": [
    "np.linalg.det(A)"
   ]
  },
  {
   "cell_type": "code",
   "execution_count": 37,
   "id": "7c8c208a",
   "metadata": {},
   "outputs": [
    {
     "data": {
      "text/plain": [
       "0.0"
      ]
     },
     "execution_count": 37,
     "metadata": {},
     "output_type": "execute_result"
    }
   ],
   "source": [
    "np.linalg.det(C)"
   ]
  },
  {
   "cell_type": "markdown",
   "id": "1f72c005",
   "metadata": {},
   "source": [
    "### Eigenvalues\n",
    "$Ax=\\lambda x -> (A-\\lambda I)x=0$, $det(A)=\\prod{\\lambda}$, $Tr(A)=\\sum{\\lambda}$"
   ]
  },
  {
   "cell_type": "code",
   "execution_count": 46,
   "id": "2f7035bb",
   "metadata": {},
   "outputs": [
    {
     "data": {
      "text/plain": [
       "(array([-3.11309058,  4.20191178,  1.91117881]),\n",
       " array([[-0.63262421,  0.37389924, -0.04444013],\n",
       "        [ 0.16649445,  0.90473508, -0.83740542],\n",
       "        [ 0.75635059, -0.2040926 ,  0.54477265]]))"
      ]
     },
     "execution_count": 46,
     "metadata": {},
     "output_type": "execute_result"
    }
   ],
   "source": [
    "a,b = np.linalg.eig(A)\n",
    "a,b"
   ]
  },
  {
   "cell_type": "code",
   "execution_count": 47,
   "id": "9ff3b448",
   "metadata": {},
   "outputs": [
    {
     "data": {
      "text/plain": [
       "-25.000000000000007"
      ]
     },
     "execution_count": 47,
     "metadata": {},
     "output_type": "execute_result"
    }
   ],
   "source": [
    "np.linalg.det(A)"
   ]
  },
  {
   "cell_type": "code",
   "execution_count": 51,
   "id": "00970fdf",
   "metadata": {},
   "outputs": [
    {
     "data": {
      "text/plain": [
       "-24.999999999999982"
      ]
     },
     "execution_count": 51,
     "metadata": {},
     "output_type": "execute_result"
    }
   ],
   "source": [
    "np.prod(a)"
   ]
  },
  {
   "cell_type": "code",
   "execution_count": 52,
   "id": "196e337f",
   "metadata": {},
   "outputs": [
    {
     "data": {
      "text/plain": [
       "3"
      ]
     },
     "execution_count": 52,
     "metadata": {},
     "output_type": "execute_result"
    }
   ],
   "source": [
    "np.trace(A)"
   ]
  },
  {
   "cell_type": "code",
   "execution_count": 53,
   "id": "44901d16",
   "metadata": {},
   "outputs": [
    {
     "data": {
      "text/plain": [
       "2.9999999999999982"
      ]
     },
     "execution_count": 53,
     "metadata": {},
     "output_type": "execute_result"
    }
   ],
   "source": [
    "np.sum(a)"
   ]
  },
  {
   "cell_type": "markdown",
   "id": "7738e947",
   "metadata": {},
   "source": [
    "## Optimization"
   ]
  },
  {
   "cell_type": "markdown",
   "id": "888eb1cd",
   "metadata": {},
   "source": [
    "### Newton\n",
    "$x_{n+1}=x_n-\\frac{f^{'}(Jacobian)}{f^{''}(Hessian)}$"
   ]
  },
  {
   "cell_type": "markdown",
   "id": "6233ea8b",
   "metadata": {},
   "source": [
    "### Gradient Desent"
   ]
  },
  {
   "cell_type": "markdown",
   "id": "07a3e9d9",
   "metadata": {},
   "source": [
    "$x_{n+1}=x_n-0.1f^{'}$"
   ]
  },
  {
   "cell_type": "code",
   "execution_count": null,
   "id": "ccdb3139",
   "metadata": {},
   "outputs": [],
   "source": []
  }
 ],
 "metadata": {
  "kernelspec": {
   "display_name": "Python 3",
   "language": "python",
   "name": "python3"
  },
  "language_info": {
   "codemirror_mode": {
    "name": "ipython",
    "version": 3
   },
   "file_extension": ".py",
   "mimetype": "text/x-python",
   "name": "python",
   "nbconvert_exporter": "python",
   "pygments_lexer": "ipython3",
   "version": "3.6.13"
  },
  "toc": {
   "base_numbering": 1,
   "nav_menu": {},
   "number_sections": true,
   "sideBar": true,
   "skip_h1_title": false,
   "title_cell": "Table of Contents",
   "title_sidebar": "Contents",
   "toc_cell": false,
   "toc_position": {},
   "toc_section_display": true,
   "toc_window_display": false
  }
 },
 "nbformat": 4,
 "nbformat_minor": 5
}
