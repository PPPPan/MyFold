{
 "cells": [
  {
   "cell_type": "code",
   "execution_count": 40,
   "id": "79c1bffb",
   "metadata": {},
   "outputs": [],
   "source": [
    "def hanoi(n,p1,p2,p3):\n",
    "\n",
    "    if(1==n):\n",
    "        print(str(n)+\"盘子从\"+str(p1)+str(p2)+str(p3))\n",
    "    else:\n",
    "    \n",
    "        hanoi(n-1,p1,p3,p2);\n",
    "        print(str(n)+\"盘子从：\"+str(p1)+str(p2)+str(p3))\n",
    "        hanoi(n-1,p2,p1,p3);\n",
    "    \n"
   ]
  },
  {
   "cell_type": "code",
   "execution_count": 41,
   "id": "1cd17ebc",
   "metadata": {},
   "outputs": [
    {
     "name": "stdout",
     "output_type": "stream",
     "text": [
      "1盘子从123\n",
      "2盘子从：132\n",
      "1盘子从312\n",
      "3盘子从：123\n",
      "1盘子从231\n",
      "2盘子从：213\n",
      "1盘子从123\n"
     ]
    }
   ],
   "source": [
    "hanoi(3,1,2,3)"
   ]
  },
  {
   "cell_type": "code",
   "execution_count": 60,
   "id": "a13b7e1a",
   "metadata": {},
   "outputs": [],
   "source": [
    "def partition(arr, low, high):\n",
    "    pivot, j = arr[low], low\n",
    "    for i in range(low + 1, high):\n",
    "        if arr[i] <= pivot:\n",
    "            j += 1\n",
    "            #arr[j], arr[i] = arr[i], arr[j]\n",
    "    arr[low], arr[j] = arr[j], arr[low]\n",
    "    return j \n",
    "\n",
    "def quick_sort_between(arr, low, high):\n",
    "    if high<=low: # 递归结束条件\n",
    "        return\n",
    "\n",
    "    m = partition(arr, low, high)  # arr[m] 作为划分标准\n",
    "    quick_sort_between(arr, low, m - 1)\n",
    "    quick_sort_between(arr, m + 1, high)\n",
    "\n",
    "def quick_sort(arr):\n",
    "    \"\"\"\n",
    "    快速排序(in-place)\n",
    "    :param arr: 待排序的List\n",
    "    :return: 快速排序是就地排序(in-place)\n",
    "    \"\"\"\n",
    "    quick_sort_between(arr,0, len(arr))"
   ]
  },
  {
   "cell_type": "code",
   "execution_count": 62,
   "id": "9568f415",
   "metadata": {},
   "outputs": [
    {
     "name": "stdout",
     "output_type": "stream",
     "text": [
      "[1, 2]\n"
     ]
    }
   ],
   "source": [
    "arr = [2,1]\n",
    "quick_sort(arr)\n",
    "print(arr)"
   ]
  },
  {
   "cell_type": "code",
   "execution_count": 2,
   "id": "95d687cf",
   "metadata": {},
   "outputs": [
    {
     "name": "stdout",
     "output_type": "stream",
     "text": [
      "[0, 1, 2, 2, 3, 3, 4, 5]\n"
     ]
    }
   ],
   "source": [
    "def bubblesort(arr):\n",
    "    for i in range(0,len(arr)-1):\n",
    "        for j in range(i+1, len(arr)):\n",
    "            if arr[j]<arr[i]:\n",
    "                arr[i], arr[j] = arr[j], arr[i]\n",
    "    \n",
    "    return arr\n",
    "arr = [3,0,2,1,3,2,4,5]\n",
    "arr = bubblesort(arr)\n",
    "\n",
    "print(arr)"
   ]
  },
  {
   "cell_type": "code",
   "execution_count": 3,
   "id": "c012fbb1",
   "metadata": {},
   "outputs": [
    {
     "name": "stdout",
     "output_type": "stream",
     "text": [
      "[0, 1, 2, 2, 3, 3, 4, 5]\n"
     ]
    }
   ],
   "source": [
    "def selectionsort(arr):\n",
    "    for i in range(0,len(arr)):\n",
    "        min_index = i\n",
    "        min_val = arr[i]\n",
    "        for j in range(i,len(arr)):\n",
    "            if arr[j]<arr[i]:\n",
    "                min_index = j\n",
    "                min_val = arr[j]\n",
    "        arr[i], arr[min_index] = arr[min_index], arr[i]\n",
    "    \n",
    "    return arr\n",
    "arr = [3,0,2,1,3,2,4,5]\n",
    "arr = bubblesort(arr)\n",
    "\n",
    "print(arr)"
   ]
  },
  {
   "cell_type": "code",
   "execution_count": 39,
   "id": "9c1393c5",
   "metadata": {},
   "outputs": [
    {
     "name": "stdout",
     "output_type": "stream",
     "text": [
      "堆排序： [10, 20, 30, 40, 50, 60, 70, 80, 90]\n"
     ]
    }
   ],
   "source": [
    "def heapAdjust(li, s, m):\n",
    "    \"\"\"\n",
    "    将堆调整为大顶堆\n",
    "    \"\"\"\n",
    "    t = li[s]\n",
    "    j = 2 * s + 1  # 节点s的左孩子\n",
    "    while j < m:\n",
    "        # 将节点s的值较大孩子赋值给j\n",
    "        if j < m-1 and li[j] < li[j+1]:\n",
    "            j += 1\n",
    "        # 若节点s的值大于左右孩子，则跳出循环\n",
    "        if t >= li[j]:\n",
    "            break\n",
    "        li[s] = li[j]  # 将孩子节点的值赋给当前节点\n",
    "        s = j\n",
    "        j = j * 2 + 1  # 继续递归迭代\n",
    "    li[s] = t  # 将最初节点的值赋给最后得到的节点s\n",
    "\n",
    "def heapSort(li):\n",
    "    \"\"\"\n",
    "    堆排序，属于选择排序类，不稳定排序\n",
    "    时间复杂度O(n*logn)\n",
    "    \"\"\"\n",
    "    n = len(li)\n",
    "    # 初始化大顶堆\n",
    "    for i in range(n//2-1, -1, -1):\n",
    "        heapAdjust(li, i, n)\n",
    "    # 从后向前遍历数组，每次将堆顶最大值放置于位置i处\n",
    "    for i in range(n-1, 0, -1):\n",
    "        li[0], li[i] = li[i], li[0]  # 交换堆顶与待排序数组末尾位置i处\n",
    "        heapAdjust(li, 0, i)  # 调整堆使其满足大顶堆\n",
    "    return li\n",
    "\n",
    "if __name__ == '__main__':\n",
    "    li = [90, 10, 50, 80, 30, 70, 40, 60, 20]\n",
    "    print('堆排序：', heapSort(li.copy()))\n"
   ]
  },
  {
   "cell_type": "code",
   "execution_count": 38,
   "id": "6c4f3dfc",
   "metadata": {},
   "outputs": [
    {
     "name": "stdout",
     "output_type": "stream",
     "text": [
      "[1, 0, 1, 2, 2, 2, 3, 3, 3, 3, 4, 5, 6, 10]\n"
     ]
    }
   ],
   "source": [
    "arr = [3,1,3,0,2,1,3,2,4,5,6,10,2,3]\n",
    "arr = heatsort(arr)\n",
    "\n",
    "print(arr)"
   ]
  },
  {
   "cell_type": "code",
   "execution_count": null,
   "id": "c2ceea2b",
   "metadata": {},
   "outputs": [],
   "source": []
  }
 ],
 "metadata": {
  "kernelspec": {
   "display_name": "Python 3",
   "language": "python",
   "name": "python3"
  },
  "language_info": {
   "codemirror_mode": {
    "name": "ipython",
    "version": 3
   },
   "file_extension": ".py",
   "mimetype": "text/x-python",
   "name": "python",
   "nbconvert_exporter": "python",
   "pygments_lexer": "ipython3",
   "version": "3.9.7"
  }
 },
 "nbformat": 4,
 "nbformat_minor": 5
}
