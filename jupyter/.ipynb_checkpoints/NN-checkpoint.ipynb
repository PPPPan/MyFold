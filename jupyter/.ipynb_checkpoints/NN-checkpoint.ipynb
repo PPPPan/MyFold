{
 "cells": [
  {
   "cell_type": "code",
   "execution_count": 1,
   "id": "4e145c09",
   "metadata": {},
   "outputs": [],
   "source": [
    "import numpy as np\n",
    "import matplotlib.pyplot as plt"
   ]
  },
  {
   "cell_type": "code",
   "execution_count": 33,
   "id": "afc16241",
   "metadata": {},
   "outputs": [
    {
     "name": "stdout",
     "output_type": "stream",
     "text": [
      "0.9525741268224334\n"
     ]
    }
   ],
   "source": [
    "def sigmoid(z):\n",
    "    return 1/(1+np.exp(-z))\n",
    "\n",
    "def sigmoid_deriv(x):\n",
    "    return sigmoid(x)*(1-sigmoid(x))\n",
    "\n",
    "class neuron:\n",
    "    def __init__(self, w, bias):\n",
    "        self.w = w\n",
    "        self.b = b\n",
    "\n",
    "    \n",
    "    def feedforward(self, inputs):\n",
    "        y = np.dot(self.w, inputs) + self.b\n",
    "        return sigmoid(y)\n",
    "\n",
    "w = np.array([0,1])\n",
    "b = 0\n",
    "nn = neuron(w,b)\n",
    "\n",
    "x = np.array([2, 3])       # x1 = 2, x2 = 3\n",
    "print(nn.feedforward(x))    # 0.9990889488055994"
   ]
  },
  {
   "cell_type": "code",
   "execution_count": 34,
   "id": "444e991e",
   "metadata": {},
   "outputs": [
    {
     "name": "stdout",
     "output_type": "stream",
     "text": [
      "0.7216325609518421\n"
     ]
    }
   ],
   "source": [
    "nn1 = neuron(w,b)\n",
    "nn2 = neuron(w,b)\n",
    "\n",
    "h1 = nn1.feedforward(x)\n",
    "h2 = nn2.feedforward(x)\n",
    "\n",
    "nn3 = neuron(w,b)\n",
    "o = nn3.feedforward(np.array([h1,h2]))\n",
    "\n",
    "print(o)\n"
   ]
  },
  {
   "cell_type": "code",
   "execution_count": 31,
   "id": "ab431151",
   "metadata": {},
   "outputs": [],
   "source": [
    "def mse(y,y_pre):\n",
    "    m = y.shape[0]\n",
    "    return 1/m * np.sum(np.power(y-y_pre,2))"
   ]
  },
  {
   "cell_type": "code",
   "execution_count": 32,
   "id": "642dd5fc",
   "metadata": {},
   "outputs": [
    {
     "data": {
      "text/plain": [
       "0.5"
      ]
     },
     "execution_count": 32,
     "metadata": {},
     "output_type": "execute_result"
    }
   ],
   "source": [
    "test_input = np.array(\n",
    "    [\n",
    "        [-2, -1],\n",
    "        [25, 6],\n",
    "        [17, 4],\n",
    "        [-15, -6]\n",
    "    ]\n",
    ")\n",
    "y = np.array(\n",
    "    [\n",
    "        1,0,0,1\n",
    "    ]\n",
    ")\n",
    "y_pred = np.array([0, 0, 0, 0])\n"
   ]
  },
  {
   "cell_type": "code",
   "execution_count": null,
   "id": "560be258",
   "metadata": {},
   "outputs": [],
   "source": [
    "class neu_nn:\n",
    "    def __init__(self):\n",
    "        self.w1 = np.random.normal()\n",
    "        self.w2 = np.random.normal()\n",
    "        self.w3 = np.random.normal()\n",
    "        self.w4 = np.random.normal()\n",
    "        self.w5 = np.random.normal()\n",
    "        self.w6 = np.random.normal()\n",
    "        \n",
    "        self.b1 = np.random.normal()\n",
    "        self.b2 = np.random.normal()\n",
    "        self.b3 = np.random.normal()\n",
    "        "
   ]
  }
 ],
 "metadata": {
  "kernelspec": {
   "display_name": "Python 3",
   "language": "python",
   "name": "python3"
  },
  "language_info": {
   "codemirror_mode": {
    "name": "ipython",
    "version": 3
   },
   "file_extension": ".py",
   "mimetype": "text/x-python",
   "name": "python",
   "nbconvert_exporter": "python",
   "pygments_lexer": "ipython3",
   "version": "3.9.7"
  }
 },
 "nbformat": 4,
 "nbformat_minor": 5
}
